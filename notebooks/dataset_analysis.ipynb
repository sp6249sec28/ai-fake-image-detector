{
 "cells": [
  {
   "cell_type": "code",
   "execution_count": 3,
   "id": "b38f94d9",
   "metadata": {},
   "outputs": [
    {
     "name": "stdout",
     "output_type": "stream",
     "text": [
      "📊 Real Images Analysis:\n",
      "Count: 20\n",
      "Avg Size: [64. 64.] (W, H)\n",
      "Formats: {'PNG'}\n",
      "\n",
      "📊 Fake Images Analysis:\n",
      "Count: 20\n",
      "Avg Size: [1024. 1024.] (W, H)\n",
      "Formats: {'JPEG'}\n"
     ]
    }
   ],
   "source": [
    "import os\n",
    "from PIL import Image\n",
    "import numpy as np\n",
    "\n",
    "# Paths\n",
    "real_path = \"C:/Users/Administrator/ai-fake-image-detector/data/real\"\n",
    "fake_path = \"C:/Users/Administrator/ai-fake-image-detector/data/fake\"\n",
    "\n",
    "def analyze_images(folder):\n",
    "    sizes = []\n",
    "    formats = []\n",
    "    for img_name in os.listdir(folder):\n",
    "        img_path = os.path.join(folder, img_name)\n",
    "        try:\n",
    "            img = Image.open(img_path)\n",
    "            sizes.append(img.size)  # (width, height)\n",
    "            formats.append(img.format)\n",
    "        except Exception as e:\n",
    "            print(f\"Error reading {img_name}: {e}\")\n",
    "    return sizes, formats\n",
    "\n",
    "# Analyze real & fake\n",
    "real_sizes, real_formats = analyze_images(real_path)\n",
    "fake_sizes, fake_formats = analyze_images(fake_path)\n",
    "\n",
    "# Convert to numpy for stats\n",
    "real_sizes_arr = np.array(real_sizes)\n",
    "fake_sizes_arr = np.array(fake_sizes)\n",
    "\n",
    "print(\"📊 Real Images Analysis:\")\n",
    "print(f\"Count: {len(real_sizes)}\")\n",
    "print(f\"Avg Size: {real_sizes_arr.mean(axis=0)} (W, H)\")\n",
    "print(f\"Formats: {set(real_formats)}\")\n",
    "\n",
    "print(\"\\n📊 Fake Images Analysis:\")\n",
    "print(f\"Count: {len(fake_sizes)}\")\n",
    "print(f\"Avg Size: {fake_sizes_arr.mean(axis=0)} (W, H)\")\n",
    "print(f\"Formats: {set(fake_formats)}\")\n"
   ]
  }
 ],
 "metadata": {
  "kernelspec": {
   "display_name": "venv",
   "language": "python",
   "name": "python3"
  },
  "language_info": {
   "codemirror_mode": {
    "name": "ipython",
    "version": 3
   },
   "file_extension": ".py",
   "mimetype": "text/x-python",
   "name": "python",
   "nbconvert_exporter": "python",
   "pygments_lexer": "ipython3",
   "version": "3.13.7"
  }
 },
 "nbformat": 4,
 "nbformat_minor": 5
}
